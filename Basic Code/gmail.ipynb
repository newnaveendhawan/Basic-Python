{
 "cells": [
  {
   "cell_type": "code",
   "execution_count": 2,
   "id": "859cfc69",
   "metadata": {},
   "outputs": [],
   "source": [
    "import smtplib as s"
   ]
  },
  {
   "cell_type": "code",
   "execution_count": null,
   "id": "5f06b42b",
   "metadata": {},
   "outputs": [],
   "source": [
    "ob= s.SMTP('smpt.gmail.com', 587)\n",
    "ob.ehlo()\n",
    "ob.starttls()\n",
    "ob.login(\"newnaveendhawan@gmail.com\", \"password\")\n",
    "subject=\"test python\"\n",
    "body \"ilovepython\"\n",
    "massege=\"subject:{}/n/n{}\".format(subject,body)\n",
    "listadd=[\"prajabt@gmail.com\",\n",
    "        \"pata@gmail.com\"]\n",
    "ob.sendmail= (\"newnaveendhawan@gmail.com\", listadd,massege)\n",
    "print(\"send mail\")\n",
    "ob.quit()\n"
   ]
  }
 ],
 "metadata": {
  "kernelspec": {
   "display_name": "Python 3 (ipykernel)",
   "language": "python",
   "name": "python3"
  },
  "language_info": {
   "codemirror_mode": {
    "name": "ipython",
    "version": 3
   },
   "file_extension": ".py",
   "mimetype": "text/x-python",
   "name": "python",
   "nbconvert_exporter": "python",
   "pygments_lexer": "ipython3",
   "version": "3.9.12"
  }
 },
 "nbformat": 4,
 "nbformat_minor": 5
}
