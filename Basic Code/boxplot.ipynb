{
 "cells": [
  {
   "cell_type": "code",
   "execution_count": 1,
   "id": "4c680113",
   "metadata": {},
   "outputs": [
    {
     "name": "stdout",
     "output_type": "stream",
     "text": [
      "Requirement already satisfied: calculations in c:\\users\\newna\\anaconda3\\lib\\site-packages (1.10)\n",
      "Requirement already satisfied: matplotlib in c:\\users\\newna\\anaconda3\\lib\\site-packages (from calculations) (3.5.1)\n",
      "Requirement already satisfied: numpy in c:\\users\\newna\\anaconda3\\lib\\site-packages (from calculations) (1.21.5)\n",
      "Requirement already satisfied: wheel in c:\\users\\newna\\anaconda3\\lib\\site-packages (from calculations) (0.37.1)\n",
      "Requirement already satisfied: fonttools>=4.22.0 in c:\\users\\newna\\anaconda3\\lib\\site-packages (from matplotlib->calculations) (4.25.0)\n",
      "Requirement already satisfied: pyparsing>=2.2.1 in c:\\users\\newna\\anaconda3\\lib\\site-packages (from matplotlib->calculations) (3.0.4)\n",
      "Requirement already satisfied: packaging>=20.0 in c:\\users\\newna\\anaconda3\\lib\\site-packages (from matplotlib->calculations) (24.1)\n",
      "Requirement already satisfied: cycler>=0.10 in c:\\users\\newna\\anaconda3\\lib\\site-packages (from matplotlib->calculations) (0.11.0)\n",
      "Requirement already satisfied: pillow>=6.2.0 in c:\\users\\newna\\anaconda3\\lib\\site-packages (from matplotlib->calculations) (10.3.0)\n",
      "Requirement already satisfied: python-dateutil>=2.7 in c:\\users\\newna\\anaconda3\\lib\\site-packages (from matplotlib->calculations) (2.8.2)\n",
      "Requirement already satisfied: kiwisolver>=1.0.1 in c:\\users\\newna\\anaconda3\\lib\\site-packages (from matplotlib->calculations) (1.3.2)\n",
      "Requirement already satisfied: six>=1.5 in c:\\users\\newna\\anaconda3\\lib\\site-packages (from python-dateutil>=2.7->matplotlib->calculations) (1.16.0)\n"
     ]
    }
   ],
   "source": [
    "# !pip install calculations"
   ]
  },
  {
   "cell_type": "code",
   "execution_count": 2,
   "id": "b3e0d29f",
   "metadata": {},
   "outputs": [
    {
     "name": "stdout",
     "output_type": "stream",
     "text": [
      "[1, 2, 3, 4, 4, 4, 5, 6, 6, 6, 6, 6, 9]\n",
      "The mean is: 4.769230769230769\n",
      "The median is: 5\n",
      "The mode is: 6\n",
      "Standard Deviation: 2.087815690853567\n",
      "Variance: 4.358974358974359\n",
      "Z-scores (using statistics module): [-1.81, 2.03, -1.33, -0.85, -0.37, -0.37, -0.37, 0.11, 0.59, 0.59, 0.59, 0.59, 0.59]\n",
      "Min-Max normalized values: [0.0, 1.0, 0.125, 0.25, 0.375, 0.375, 0.375, 0.5, 0.625, 0.625, 0.625, 0.625, 0.625]\n",
      "Outliers: [9]\n"
     ]
    },
    {
     "name": "stderr",
     "output_type": "stream",
     "text": [
      "C:\\Users\\newna\\anaconda3\\lib\\site-packages\\seaborn\\_decorators.py:36: FutureWarning: Pass the following variable as a keyword arg: x. From version 0.12, the only valid positional argument will be `data`, and passing other arguments without an explicit keyword will result in an error or misinterpretation.\n",
      "  warnings.warn(\n"
     ]
    },
    {
     "data": {
      "text/plain": [
       "<AxesSubplot:>"
      ]
     },
     "execution_count": 2,
     "metadata": {},
     "output_type": "execute_result"
    },
    {
     "data": {
      "image/png": "[encoded data removed]",
      "text/plain": [
       "<Figure size 432x288 with 1 Axes>"
      ]
     },
     "metadata": {
      "needs_background": "light"
     },
     "output_type": "display_data"
    }
   ],
   "source": [
    "import statistics\n",
    "import seaborn as sns\n",
    "import matplotlib.pyplot as plt\n",
    "\n",
    "# Example list of numbers\n",
    "numbers = [1,9,2,3,4,4,4,5,6,6,6,6,6]\n",
    "numbers1 = sorted(numbers)\n",
    "print(numbers1)\n",
    "\n",
    "mean = statistics.mean(numbers)\n",
    "median = statistics.median(numbers)\n",
    "mode = statistics.mode(numbers)\n",
    "std_dev = statistics.stdev(numbers)\n",
    "variance = statistics.variance(numbers)\n",
    "z_scores = [round((x - mean) / std_dev, 2) for x in numbers]\n",
    "# z_scores1 = [(x - mean) / std_dev for x in numbers]\n",
    "# print(z_scores1)\n",
    "min_val = min(numbers)\n",
    "max_val = max(numbers)\n",
    "normalized_values = [(x - min_val) / (max_val - min_val) for x in numbers]\n",
    "\n",
    "threshold = 2\n",
    "outliers = [numbers[i] for i, z in enumerate(z_scores) if abs(z) > threshold]\n",
    "\n",
    "print(f\"The mean is: {mean}\")\n",
    "print(f\"The median is: {median}\")\n",
    "print(f\"The mode is: {mode}\")\n",
    "print(\"Standard Deviation:\", std_dev)\n",
    "print(\"Variance:\", variance)\n",
    "print(\"Z-scores (using statistics module):\", z_scores)\n",
    "print(\"Min-Max normalized values:\", normalized_values)\n",
    "print(\"Outliers:\", outliers)\n",
    "sns.boxplot(numbers)"
   ]
  },
  {
   "cell_type": "code",
   "execution_count": 3,
   "id": "5c0f375f",
   "metadata": {},
   "outputs": [],
   "source": [
    "# Standard deviation: how spread out the values in a data set\n",
    "# helps us understand how varied the numbers are in a set."
   ]
  },
  {
   "cell_type": "code",
   "execution_count": 4,
   "id": "cc346e7c",
   "metadata": {},
   "outputs": [],
   "source": [
    "# Variance is a measure of how much the data points in a dataset differ from the mean (average) of the dataset.\n",
    "# it helps understand the spread of data points around the mean"
   ]
  },
  {
   "cell_type": "code",
   "execution_count": 5,
   "id": "78d762de",
   "metadata": {},
   "outputs": [],
   "source": [
    "# The z-score calculation indicates how many standard deviations a data point is away from the mean. "
   ]
  },
  {
   "cell_type": "code",
   "execution_count": 6,
   "id": "f3af6169",
   "metadata": {},
   "outputs": [
    {
     "name": "stdout",
     "output_type": "stream",
     "text": [
      "Q1: 4.0\n",
      "Median (Q2): 5.0\n",
      "Q3: 6.0\n",
      "Mean: 4.769230769230769\n"
     ]
    },
    {
     "data": {
      "image/png": "[encoded data removed]",
      "text/plain": [
       "<Figure size 432x288 with 1 Axes>"
      ]
     },
     "metadata": {
      "needs_background": "light"
     },
     "output_type": "display_data"
    }
   ],
   "source": [
    "import numpy as np\n",
    "import seaborn as sns\n",
    "import matplotlib.pyplot as plt\n",
    "\n",
    "# Example dataset\n",
    "numbers = [1, 9, 2, 3, 4, 4, 4, 5, 6, 6, 6, 6, 6]\n",
    "\n",
    "# Calculate quartiles and mean\n",
    "q1 = np.percentile(numbers, 25)\n",
    "median = np.median(numbers)\n",
    "q3 = np.percentile(numbers, 75)\n",
    "mean = np.mean(numbers)\n",
    "\n",
    "# Create a boxplot using Seaborn\n",
    "sns.boxplot(x=numbers)\n",
    "\n",
    "print(\"Q1:\", q1)\n",
    "print(\"Median (Q2):\", median)\n",
    "print(\"Q3:\", q3)\n",
    "print(\"Mean:\", mean)"
   ]
  },
  {
   "cell_type": "code",
   "execution_count": 7,
   "id": "6bd14134",
   "metadata": {},
   "outputs": [
    {
     "name": "stdout",
     "output_type": "stream",
     "text": [
      "[1, 2, 3, 3, 6, 9, 55, 66, 67, 88, 90, 98, 345, 678, 786, 999]\n",
      "The mean is: 206\n",
      "The median is: 66.5\n",
      "The mode is: 3\n",
      "Standard Deviation: 321.7647173531202\n",
      "Variance: 103532.53333333334\n",
      "Z-scores (using statistics module): [-0.64, -0.61, -0.63, -0.37, -0.63, 1.8, -0.62, -0.36, -0.47, -0.44, -0.34, -0.63, 0.43, 1.47, -0.43, 2.46]\n",
      "Min-Max normalized values: [0.0, 0.008016032064128256, 0.001002004008016032, 0.0871743486973948, 0.002004008016032064, 0.7865731462925851, 0.00501002004008016, 0.08917835671342686, 0.05410821643286573, 0.06513026052104208, 0.09719438877755511, 0.002004008016032064, 0.34468937875751504, 0.6783567134268537, 0.06613226452905811, 1.0]\n",
      "Outliers: [999]\n"
     ]
    },
    {
     "name": "stderr",
     "output_type": "stream",
     "text": [
      "C:\\Users\\newna\\anaconda3\\lib\\site-packages\\seaborn\\_decorators.py:36: FutureWarning: Pass the following variable as a keyword arg: x. From version 0.12, the only valid positional argument will be `data`, and passing other arguments without an explicit keyword will result in an error or misinterpretation.\n",
      "  warnings.warn(\n"
     ]
    },
    {
     "data": {
      "text/plain": [
       "<AxesSubplot:>"
      ]
     },
     "execution_count": 7,
     "metadata": {},
     "output_type": "execute_result"
    },
    {
     "data": {
      "image/png": "[encoded data removed]",
      "text/plain": [
       "<Figure size 432x288 with 1 Axes>"
      ]
     },
     "metadata": {
      "needs_background": "light"
     },
     "output_type": "display_data"
    }
   ],
   "source": [
    "import statistics\n",
    "import seaborn as sns\n",
    "import matplotlib.pyplot as plt\n",
    "\n",
    "# Example list of numbers\n",
    "num = [1,9,2,88,3,786,6,90,55,66,98,3,345,678,67,999]\n",
    "numbers1 = sorted(num)\n",
    "print(numbers1)\n",
    "\n",
    "mean = statistics.mean(num)\n",
    "median = statistics.median(num)\n",
    "mode = statistics.mode(num)\n",
    "std_dev = statistics.stdev(num)\n",
    "variance = statistics.variance(num)\n",
    "z_scores = [round((x - mean) / std_dev, 2) for x in num]\n",
    "# z_scores1 = [(x - mean) / std_dev for x in numbers]\n",
    "# print(z_scores1)\n",
    "min_val = min(num)\n",
    "max_val = max(num)\n",
    "normalized_values = [(x - min_val) / (max_val - min_val) for x in num]\n",
    "\n",
    "threshold = 2\n",
    "outliers = [num[i] for i, z in enumerate(z_scores) if abs(z) > threshold]\n",
    "\n",
    "print(f\"The mean is: {mean}\")\n",
    "print(f\"The median is: {median}\")\n",
    "print(f\"The mode is: {mode}\")\n",
    "print(\"Standard Deviation:\", std_dev)\n",
    "print(\"Variance:\", variance)\n",
    "print(\"Z-scores (using statistics module):\", z_scores)\n",
    "print(\"Min-Max normalized values:\", normalized_values)\n",
    "print(\"Outliers:\", outliers)\n",
    "sns.boxplot(num)"
   ]
  },
  {
   "cell_type": "code",
   "execution_count": 8,
   "id": "8c95b655",
   "metadata": {},
   "outputs": [
    {
     "name": "stdout",
     "output_type": "stream",
     "text": [
      "Q1: 5.25\n",
      "Median (Q2): 66.5\n",
      "Q3: 159.75\n",
      "Mean: 206.0\n"
     ]
    },
    {
     "data": {
      "image/png": "[encoded data removed]",
      "text/plain": [
       "<Figure size 432x288 with 1 Axes>"
      ]
     },
     "metadata": {
      "needs_background": "light"
     },
     "output_type": "display_data"
    }
   ],
   "source": [
    "# Calculate quartiles and mean\n",
    "q1 = np.percentile(num, 25)\n",
    "median = np.median(num)\n",
    "q3 = np.percentile(num, 75)\n",
    "mean = np.mean(num)\n",
    "\n",
    "# Create a boxplot using Seaborn\n",
    "sns.boxplot(x=num)\n",
    "\n",
    "print(\"Q1:\", q1)\n",
    "print(\"Median (Q2):\", median)\n",
    "print(\"Q3:\", q3)\n",
    "print(\"Mean:\", mean)\n"
   ]
  },
  {
   "cell_type": "code",
   "execution_count": 9,
   "id": "fd59efcc",
   "metadata": {},
   "outputs": [
    {
     "name": "stdout",
     "output_type": "stream",
     "text": [
      "Q1 (25th percentile): 5.25\n"
     ]
    }
   ],
   "source": [
    "import numpy as np\n",
    "\n",
    "# Given data\n",
    "num = [1, 9, 2, 88, 3, 786, 6, 90, 55, 66, 98, 3, 345, 678, 67, 999]\n",
    "# 1, 2, 3, 3, 6, 9, 55, 66, 67, 88, 90, 98, 345, 678, 786, 999\n",
    "# Calculate Q1\n",
    "q1 = np.percentile(num, 25)\n",
    "print(\"Q1 (25th percentile):\", q1)"
   ]
  },
  {
   "cell_type": "markdown",
   "id": "8b0633b3",
   "metadata": {},
   "source": []
  },
  {
   "cell_type": "markdown",
   "id": "8b778336",
   "metadata": {},
   "source": [
    "If 𝑛=16(number of data points) and P=25 (percentile)\n",
    "Calculate the position:\n",
    "\n",
    "Position\n",
    "\n",
    "((\n",
    "𝑛\n",
    "+\n",
    "1\n",
    ")\n",
    "×\n",
    "𝑃)/100\n",
    "=4.25\n",
    "\n",
    "\n",
    "\n"
   ]
  },
  {
   "cell_type": "markdown",
   "id": "b57e98df",
   "metadata": {},
   "source": [
    "Integer part (k) of position = 4\n",
    "\n",
    "Decimal part (d) of position = 0.25"
   ]
  },
  {
   "cell_type": "markdown",
   "id": "f6c373b4",
   "metadata": {},
   "source": [
    "after sort the data\n",
    "\n",
    "Q1=Value at position 4(k) + 0.25(d)× (Value at position 5(k+1) − Value at position 4(k))"
   ]
  },
  {
   "cell_type": "code",
   "execution_count": null,
   "id": "fb7c4e10",
   "metadata": {},
   "outputs": [],
   "source": []
  }
 ],
 "metadata": {
  "kernelspec": {
   "display_name": "Python 3 (ipykernel)",
   "language": "python",
   "name": "python3"
  },
  "language_info": {
   "codemirror_mode": {
    "name": "ipython",
    "version": 3
   },
   "file_extension": ".py",
   "mimetype": "text/x-python",
   "name": "python",
   "nbconvert_exporter": "python",
   "pygments_lexer": "ipython3",
   "version": "3.9.12"
  }
 },
 "nbformat": 4,
 "nbformat_minor": 5
}
