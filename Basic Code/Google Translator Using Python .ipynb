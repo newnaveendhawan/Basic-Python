{
 "cells": [
  {
   "cell_type": "code",
   "execution_count": 1,
   "id": "b6349309",
   "metadata": {},
   "outputs": [
    {
     "name": "stdout",
     "output_type": "stream",
     "text": [
      "Requirement already satisfied: googletrans==4.0.0-rc1 in c:\\users\\newna\\anaconda3\\lib\\site-packages (4.0.0rc1)\n",
      "Requirement already satisfied: httpx==0.13.3 in c:\\users\\newna\\anaconda3\\lib\\site-packages (from googletrans==4.0.0-rc1) (0.13.3)\n",
      "Requirement already satisfied: idna==2.* in c:\\users\\newna\\anaconda3\\lib\\site-packages (from httpx==0.13.3->googletrans==4.0.0-rc1) (2.10)\n",
      "Requirement already satisfied: httpcore==0.9.* in c:\\users\\newna\\anaconda3\\lib\\site-packages (from httpx==0.13.3->googletrans==4.0.0-rc1) (0.9.1)\n",
      "Requirement already satisfied: certifi in c:\\users\\newna\\anaconda3\\lib\\site-packages (from httpx==0.13.3->googletrans==4.0.0-rc1) (2021.10.8)\n",
      "Requirement already satisfied: chardet==3.* in c:\\users\\newna\\anaconda3\\lib\\site-packages (from httpx==0.13.3->googletrans==4.0.0-rc1) (3.0.4)\n",
      "Requirement already satisfied: sniffio in c:\\users\\newna\\anaconda3\\lib\\site-packages (from httpx==0.13.3->googletrans==4.0.0-rc1) (1.3.1)\n",
      "Requirement already satisfied: rfc3986<2,>=1.3 in c:\\users\\newna\\anaconda3\\lib\\site-packages (from httpx==0.13.3->googletrans==4.0.0-rc1) (1.5.0)\n",
      "Requirement already satisfied: hstspreload in c:\\users\\newna\\anaconda3\\lib\\site-packages (from httpx==0.13.3->googletrans==4.0.0-rc1) (2024.6.1)\n",
      "Requirement already satisfied: h2==3.* in c:\\users\\newna\\anaconda3\\lib\\site-packages (from httpcore==0.9.*->httpx==0.13.3->googletrans==4.0.0-rc1) (3.2.0)\n",
      "Requirement already satisfied: h11<0.10,>=0.8 in c:\\users\\newna\\anaconda3\\lib\\site-packages (from httpcore==0.9.*->httpx==0.13.3->googletrans==4.0.0-rc1) (0.9.0)\n",
      "Requirement already satisfied: hpack<4,>=3.0 in c:\\users\\newna\\anaconda3\\lib\\site-packages (from h2==3.*->httpcore==0.9.*->httpx==0.13.3->googletrans==4.0.0-rc1) (3.0.0)\n",
      "Requirement already satisfied: hyperframe<6,>=5.2.0 in c:\\users\\newna\\anaconda3\\lib\\site-packages (from h2==3.*->httpcore==0.9.*->httpx==0.13.3->googletrans==4.0.0-rc1) (5.2.0)\n"
     ]
    }
   ],
   "source": [
    "!pip install googletrans==4.0.0-rc1\n",
    "from tkinter import *\n",
    "from tkinter import ttk\n",
    "from googletrans import Translator, LANGUAGES\n",
    "translator = Translator()\n"
   ]
  },
  {
   "cell_type": "code",
   "execution_count": 2,
   "id": "5ae05cbc",
   "metadata": {},
   "outputs": [],
   "source": [
    "from googletrans import Translator, LANGUAGES\n",
    "\n",
    "def change (text=\"type\", src=\"English\", dest=\"Hindi\"):\n",
    "    text1 =text\n",
    "    src1=src\n",
    "    dest1=dest\n",
    "    trans= Translator()\n",
    "    trans1 =trans.translate(text,src=src1,dest=dest1)\n",
    "    return trans1.text\n",
    "def data():\n",
    "    s =comb_sor.get()\n",
    "    d =comb_dest.get()\n",
    "    masg = Sor_text.get(1.0,END)\n",
    "    textget=change(text=masg,src=s,dest=d)\n",
    "    dest_text.delete(1.0,END)\n",
    "    dest_text.insert(END,textget)\n",
    "\n",
    "\n",
    "root = Tk()\n",
    "root.title(\"translator google\")\n",
    "root.geometry(\"500x600\")\n",
    "root.config(bg ='Red')\n",
    "lab_txt=Label(root, text=\" Translator \", font = (\"Times New Roman\", 50, \"bold\"))\n",
    "lab_txt.place(x=100, y=40, height=50,width=300)\n",
    "frame = Frame(root).pack(side=BOTTOM)\n",
    "lab_txt=Label(root, text=\" Source Text\", font = (\"Times New Roman\", 20, \"bold\"),fg=\"black\", bg=\"red\")\n",
    "lab_txt.place(x=100, y=100, height=20,width=300)\n",
    "\n",
    "Sor_text= Text(frame,font = (\"Times New Roman\", 50, \"bold\"),wrap=WORD)\n",
    "Sor_text.place(x=10, y=130, height=150,width=480)   \n",
    "\n",
    "list_text =list(LANGUAGES.values())\n",
    "\n",
    "comb_sor=ttk.Combobox(frame,value=list_text)\n",
    "comb_sor.place(x=10, y=300, height=40,width=150) \n",
    "comb_sor.set(\"english\")\n",
    "\n",
    "button_change = Button(frame, text= \"Translate\", relief = RAISED, command=data)\n",
    "button_change.place(x=170, y=300, height=40,width=150)\n",
    "\n",
    "comb_dest= ttk.Combobox(frame,value=list_text)\n",
    "comb_dest.place(x=330, y=300, height=40,width=150) \n",
    "comb_dest.set(\"english\")\n",
    "\n",
    "# comb_sor=ttk.Combobox(frame,value=list_text)\n",
    "# comb_sor.place(x=10, y=300, height=40,width=150) \n",
    "# comb_sor.set(\"english\")\n",
    "lab_txt=Label(root, text=\" Dest Text\", font = (\"Times New Roman\", 20, \"bold\"),fg=\"black\", bg=\"red\")\n",
    "lab_txt.place(x=100, y=360, height=20,width=300)\n",
    "dest_text= Text(frame,font = (\"Times New Roman\", 50, \"bold\"),wrap=WORD)\n",
    "dest_text.place(x=10, y=400, height=150,width=480)   \n",
    "\n",
    "root.mainloop()"
   ]
  },
  {
   "cell_type": "code",
   "execution_count": 3,
   "id": "b3f8ae35",
   "metadata": {},
   "outputs": [
    {
     "name": "stdout",
     "output_type": "stream",
     "text": [
      "helo\n"
     ]
    }
   ],
   "source": [
    "print(\"helo\") "
   ]
  }
 ],
 "metadata": {
  "kernelspec": {
   "display_name": "Python 3 (ipykernel)",
   "language": "python",
   "name": "python3"
  },
  "language_info": {
   "codemirror_mode": {
    "name": "ipython",
    "version": 3
   },
   "file_extension": ".py",
   "mimetype": "text/x-python",
   "name": "python",
   "nbconvert_exporter": "python",
   "pygments_lexer": "ipython3",
   "version": "3.9.12"
  }
 },
 "nbformat": 4,
 "nbformat_minor": 5
}
