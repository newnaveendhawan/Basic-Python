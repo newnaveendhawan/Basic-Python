{
 "cells": [
  {
   "cell_type": "code",
   "execution_count": 1,
   "id": "9e157696",
   "metadata": {},
   "outputs": [],
   "source": [
    "# args or kwargs"
   ]
  },
  {
   "cell_type": "code",
   "execution_count": 2,
   "id": "67a993cb",
   "metadata": {},
   "outputs": [],
   "source": [
    "# args stands for arguments that are passed to the function \n",
    "# whereas kwargs stands for keyword arguments which are passed \n",
    "# along with the values into the function."
   ]
  },
  {
   "cell_type": "code",
   "execution_count": 3,
   "id": "2f0ce703",
   "metadata": {},
   "outputs": [],
   "source": [
    "# *args specifies the number of non-keyworded arguments that can be passed and \n",
    "# the operations that can be performed on the function in Python, whereas \n",
    "# **kwargs is a variable number of keyworded arguments that can be passed \n",
    "# to a function that can perform dictionary operations."
   ]
  },
  {
   "cell_type": "code",
   "execution_count": 4,
   "id": "83dfb71f",
   "metadata": {},
   "outputs": [
    {
     "name": "stdout",
     "output_type": "stream",
     "text": [
      "Hello\n",
      "Welcome\n",
      "to\n",
      "GeeksforGeeks\n"
     ]
    }
   ],
   "source": [
    "def myFun(*argv):\n",
    "    for arg in argv:\n",
    "        print(arg)\n",
    "\n",
    "myFun('Hello', 'Welcome', 'to', 'GeeksforGeeks')"
   ]
  },
  {
   "cell_type": "code",
   "execution_count": 5,
   "id": "d3f57263",
   "metadata": {},
   "outputs": [
    {
     "name": "stdout",
     "output_type": "stream",
     "text": [
      "W\n",
      "e\n",
      "l\n",
      "c\n",
      "o\n",
      "m\n",
      "e\n"
     ]
    }
   ],
   "source": [
    "def myFun(i,e,r,t):\n",
    "    for arg in e:\n",
    "        print(arg)\n",
    "\n",
    "myFun('Hello', 'Welcome', 'to', 'GeeksforGeeks')"
   ]
  },
  {
   "cell_type": "code",
   "execution_count": 6,
   "id": "230450dd",
   "metadata": {},
   "outputs": [
    {
     "name": "stdout",
     "output_type": "stream",
     "text": [
      "Hello\n",
      "Welcome\n"
     ]
    }
   ],
   "source": [
    "def myFun(i,e,r,t):\n",
    "    for arg in i,e:\n",
    "        print(arg)\n",
    "\n",
    "myFun('Hello', 'Welcome', 'to', 'GeeksforGeeks')"
   ]
  },
  {
   "cell_type": "code",
   "execution_count": 7,
   "id": "37a4fd2a",
   "metadata": {},
   "outputs": [
    {
     "name": "stdout",
     "output_type": "stream",
     "text": [
      "Hello\n",
      "GeeksforGeeks\n"
     ]
    }
   ],
   "source": [
    "def myFun(i,e,r,t):\n",
    "    for arg in i,t:\n",
    "        print(arg)\n",
    "\n",
    "myFun('Hello', 'Welcome', 'to', 'GeeksforGeeks')"
   ]
  },
  {
   "cell_type": "code",
   "execution_count": 8,
   "id": "af188b5f",
   "metadata": {},
   "outputs": [
    {
     "name": "stdout",
     "output_type": "stream",
     "text": [
      "Hello\n",
      "Welcome\n",
      "to\n",
      "GeeksforGeeks\n"
     ]
    }
   ],
   "source": [
    "def myFun(*non):\n",
    "    for arg in non:\n",
    "        print(arg)\n",
    "\n",
    "myFun('Hello', 'Welcome', 'to', 'GeeksforGeeks')"
   ]
  },
  {
   "cell_type": "code",
   "execution_count": 9,
   "id": "40f1c0f8",
   "metadata": {},
   "outputs": [
    {
     "name": "stdout",
     "output_type": "stream",
     "text": [
      "Hello\n",
      "H\n",
      "e\n",
      "l\n",
      "l\n",
      "o\n"
     ]
    }
   ],
   "source": [
    "def myFun(non):\n",
    "    print(non)\n",
    "    for arg in non:\n",
    "        print(arg)\n",
    "\n",
    "myFun('Hello')"
   ]
  },
  {
   "cell_type": "code",
   "execution_count": 10,
   "id": "7664d6e9",
   "metadata": {},
   "outputs": [
    {
     "name": "stdout",
     "output_type": "stream",
     "text": [
      "First argument : Hello\n",
      "Next argument through *argv : Welcome\n",
      "Next argument through *argv : to\n",
      "Next argument through *argv : GeeksforGeeks\n"
     ]
    }
   ],
   "source": [
    "def myFun(arg1, *argv):\n",
    "    print(\"First argument :\", arg1)\n",
    "    for arg in argv:\n",
    "        print(\"Next argument through *argv :\", arg)\n",
    "\n",
    "\n",
    "myFun('Hello', 'Welcome', 'to', 'GeeksforGeeks')\n"
   ]
  },
  {
   "cell_type": "code",
   "execution_count": 13,
   "id": "bb18b51d",
   "metadata": {},
   "outputs": [
    {
     "name": "stdout",
     "output_type": "stream",
     "text": [
      "Arguments:\n",
      "Next argument through *ar: Hello\n",
      "Next argument through *ar: Welcome\n",
      "Next argument through *ar: to\n",
      "Next argument through *ar: GeeksforGeeks\n"
     ]
    }
   ],
   "source": [
    "\n",
    "def myFun(*ar):\n",
    "    print(\"Arguments:\")\n",
    "    for arg in ar:\n",
    "        print(\"Next argument through *ar:\", arg)\n",
    "\n",
    "myFun('Hello', 'Welcome', 'to', 'GeeksforGeeks')"
   ]
  },
  {
   "cell_type": "code",
   "execution_count": null,
   "id": "a34357a5",
   "metadata": {},
   "outputs": [],
   "source": []
  },
  {
   "cell_type": "code",
   "execution_count": 14,
   "id": "83e89046",
   "metadata": {},
   "outputs": [
    {
     "name": "stdout",
     "output_type": "stream",
     "text": [
      "first == Geeks\n",
      "mid == for\n",
      "last == Geeks\n"
     ]
    }
   ],
   "source": [
    "def myFun(**kwargs):\n",
    "    for key, value in kwargs.items():\n",
    "        print(\"%s == %s\" % (key, value))\n",
    "\n",
    "# Driver code\n",
    "myFun(first='Geeks', mid='for', last='Geeks')\n"
   ]
  },
  {
   "cell_type": "markdown",
   "id": "729d91e7",
   "metadata": {},
   "source": [
    "## Using both *args and **kwargs in Python to call a function"
   ]
  },
  {
   "cell_type": "code",
   "execution_count": 15,
   "id": "f0f7936d",
   "metadata": {},
   "outputs": [
    {
     "name": "stdout",
     "output_type": "stream",
     "text": [
      "arg1: Geeks\n",
      "arg2: for\n",
      "arg3: Geeks\n",
      "arg1: Geeks\n",
      "arg2: for\n",
      "arg3: Geeks\n"
     ]
    }
   ],
   "source": [
    "def myFun(arg1, arg2, arg3):\n",
    "    print(\"arg1:\", arg1)\n",
    "    print(\"arg2:\", arg2)\n",
    "    print(\"arg3:\", arg3)\n",
    "\n",
    "\n",
    "# Now we can use *args or **kwargs to\n",
    "# pass arguments to this function :\n",
    "args = (\"Geeks\", \"for\", \"Geeks\")\n",
    "myFun(*args)\n",
    "\n",
    "kwargs = {\"arg1\": \"Geeks\", \"arg2\": \"for\", \"arg3\": \"Geeks\"}\n",
    "myFun(**kwargs)\n"
   ]
  },
  {
   "cell_type": "code",
   "execution_count": 16,
   "id": "ccbb1d17",
   "metadata": {},
   "outputs": [
    {
     "name": "stdout",
     "output_type": "stream",
     "text": [
      "args:  ('geeks', 'for', 'geeks')\n",
      "kwargs:  {'first': 'Geeks', 'mid': 'for', 'last': 'Geeks'}\n"
     ]
    }
   ],
   "source": [
    "def myFun(*args, **kwargs):\n",
    "    print(\"args: \", args)\n",
    "    print(\"kwargs: \", kwargs)\n",
    "\n",
    "\n",
    "# Now we can use both *args ,**kwargs\n",
    "# to pass arguments to this function :\n",
    "myFun('geeks', 'for', 'geeks', first=\"Geeks\", mid=\"for\", last=\"Geeks\")\n"
   ]
  },
  {
   "cell_type": "markdown",
   "id": "26a57fa0",
   "metadata": {},
   "source": [
    "## Using *args and **kwargs in Python to set values of object"
   ]
  },
  {
   "cell_type": "code",
   "execution_count": 17,
   "id": "b01670fe",
   "metadata": {},
   "outputs": [
    {
     "name": "stdout",
     "output_type": "stream",
     "text": [
      "red\n",
      "250\n"
     ]
    }
   ],
   "source": [
    "# defining car class\n",
    "class Car():\n",
    "    # args receives unlimited no. of arguments as an array\n",
    "    def __init__(self, *args):\n",
    "        # access args index like array does\n",
    "        self.speed = args[0]\n",
    "        self.color = args[1]\n",
    "\n",
    "\n",
    "# creating objects of car class\n",
    "audi = Car(200, 'red')\n",
    "bmw = Car(250, 'black')\n",
    "mb = Car(190, 'white')\n",
    "\n",
    "# printing the color and speed of the cars\n",
    "print(audi.color)\n",
    "print(bmw.speed)"
   ]
  },
  {
   "cell_type": "code",
   "execution_count": 18,
   "id": "c93627b0",
   "metadata": {},
   "outputs": [
    {
     "name": "stdout",
     "output_type": "stream",
     "text": [
      "red\n",
      "250\n"
     ]
    }
   ],
   "source": [
    "# defining car class\n",
    "class Car():\n",
    "    # args receives unlimited no. of arguments as an array\n",
    "    def __init__(self, **kwargs):\n",
    "        # access args index like array does\n",
    "        self.speed = kwargs['s']\n",
    "        self.color = kwargs['c']\n",
    "\n",
    "\n",
    "# creating objects of car class\n",
    "audi = Car(s=200, c='red')\n",
    "bmw = Car(s=250, c='black')\n",
    "mb = Car(s=190, c='white')\n",
    "\n",
    "# printing the color and speed of cars\n",
    "print(audi.color)\n",
    "print(bmw.speed)"
   ]
  },
  {
   "cell_type": "code",
   "execution_count": 19,
   "id": "83e2b9e1",
   "metadata": {},
   "outputs": [],
   "source": [
    "# *args and **kwargs allow functions to accept a variable number of arguments:\n",
    "\n",
    "# *args (arguments) allows you to pass a variable number of positional arguments to a function.\n",
    "# **kwargs (keyword arguments) allows you to pass a variable number of keyword arguments (key-value pairs) to a function."
   ]
  },
  {
   "cell_type": "code",
   "execution_count": 20,
   "id": "337e5d0f",
   "metadata": {},
   "outputs": [
    {
     "name": "stdout",
     "output_type": "stream",
     "text": [
      "20\n"
     ]
    }
   ],
   "source": [
    "def multiply(x, y):\n",
    "    print (x * y)\n",
    "\n",
    "multiply(5, 4)"
   ]
  },
  {
   "cell_type": "code",
   "execution_count": 21,
   "id": "82a38aaf",
   "metadata": {},
   "outputs": [
    {
     "name": "stdout",
     "output_type": "stream",
     "text": [
      "20\n",
      "90\n",
      "24\n",
      "900\n"
     ]
    }
   ],
   "source": [
    "def multiply(*args):\n",
    "\n",
    "    z = 1\n",
    "    for num in args:\n",
    "        z *= num\n",
    "    print(z)\n",
    "\n",
    "multiply(4, 5)\n",
    "multiply(10, 9)\n",
    "multiply(2, 3, 4)\n",
    "multiply(3, 5, 10, 6)"
   ]
  },
  {
   "cell_type": "code",
   "execution_count": 22,
   "id": "f3f5c828",
   "metadata": {},
   "outputs": [
    {
     "name": "stdout",
     "output_type": "stream",
     "text": [
      "The value of name_1 is Alex\n",
      "The value of name_2 is Gray\n",
      "The value of name_3 is Harper\n",
      "The value of name_4 is Phoenix\n",
      "The value of name_5 is Remy\n",
      "The value of name_6 is Val\n"
     ]
    }
   ],
   "source": [
    "def print_values(**kwargs):\n",
    "    for key, value in kwargs.items():\n",
    "        print(\"The value of {} is {}\".format(key, value))\n",
    "\n",
    "print_values(\n",
    "            name_1=\"Alex\",\n",
    "            name_2=\"Gray\",\n",
    "            name_3=\"Harper\",\n",
    "            name_4=\"Phoenix\",\n",
    "            name_5=\"Remy\",\n",
    "            name_6=\"Val\"\n",
    "        )"
   ]
  },
  {
   "cell_type": "code",
   "execution_count": null,
   "id": "9a0cbd59",
   "metadata": {},
   "outputs": [],
   "source": []
  },
  {
   "cell_type": "code",
   "execution_count": null,
   "id": "7ab35fdf",
   "metadata": {},
   "outputs": [],
   "source": []
  },
  {
   "cell_type": "code",
   "execution_count": null,
   "id": "1970134b",
   "metadata": {},
   "outputs": [],
   "source": []
  }
 ],
 "metadata": {
  "kernelspec": {
   "display_name": "Python 3 (ipykernel)",
   "language": "python",
   "name": "python3"
  },
  "language_info": {
   "codemirror_mode": {
    "name": "ipython",
    "version": 3
   },
   "file_extension": ".py",
   "mimetype": "text/x-python",
   "name": "python",
   "nbconvert_exporter": "python",
   "pygments_lexer": "ipython3",
   "version": "3.9.12"
  }
 },
 "nbformat": 4,
 "nbformat_minor": 5
}
