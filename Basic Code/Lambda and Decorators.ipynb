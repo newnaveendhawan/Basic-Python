{
 "cells": [
  {
   "cell_type": "code",
   "execution_count": 1,
   "id": "204784b8",
   "metadata": {},
   "outputs": [],
   "source": [
    "import pandas as pd\n",
    "import numpy as np\n",
    "import matplotlib as mlt\n",
    "import matplotlib.pyplot as plt\n",
    "import sklearn as skt\n",
    "import seaborn as sns\n",
    "import math"
   ]
  },
  {
   "cell_type": "code",
   "execution_count": 2,
   "id": "bdf50443",
   "metadata": {},
   "outputs": [
    {
     "data": {
      "text/plain": [
       "450"
      ]
     },
     "execution_count": 2,
     "metadata": {},
     "output_type": "execute_result"
    }
   ],
   "source": [
    "multi =lambda a,b : a*b\n",
    "a = 15\n",
    "b =30\n",
    "multi(a,b)"
   ]
  },
  {
   "cell_type": "code",
   "execution_count": 3,
   "id": "1c5ba098",
   "metadata": {},
   "outputs": [
    {
     "name": "stdout",
     "output_type": "stream",
     "text": [
      "450\n"
     ]
    }
   ],
   "source": [
    "# Define a lambda function that multiplies two numbers\n",
    "multi = lambda a, b: a * b\n",
    "\n",
    "# Assign values to variables a and b\n",
    "a = 15\n",
    "b = 30\n",
    "\n",
    "# Call the lambda function with arguments a and b\n",
    "result = multi(a, b)\n",
    "\n",
    "# Print the result of the multiplication\n",
    "print(result)  # Output will be 450"
   ]
  },
  {
   "cell_type": "code",
   "execution_count": 4,
   "id": "30022022",
   "metadata": {},
   "outputs": [
    {
     "data": {
      "text/plain": [
       "450"
      ]
     },
     "execution_count": 4,
     "metadata": {},
     "output_type": "execute_result"
    }
   ],
   "source": [
    "(lambda a,b: a*b)(15,30)"
   ]
  },
  {
   "cell_type": "code",
   "execution_count": 5,
   "id": "cb53e8d2",
   "metadata": {},
   "outputs": [
    {
     "name": "stdout",
     "output_type": "stream",
     "text": [
      "450\n"
     ]
    }
   ],
   "source": [
    "# Define and call the lambda function that multiplies two numbers\n",
    "result = (lambda a, b: a * b)(15, 30)\n",
    "# Print the result of the multiplication\n",
    "print(result)  # Output will be 450"
   ]
  },
  {
   "cell_type": "code",
   "execution_count": 6,
   "id": "a0f8a068",
   "metadata": {},
   "outputs": [
    {
     "name": "stdout",
     "output_type": "stream",
     "text": [
      "72\n"
     ]
    }
   ],
   "source": [
    "pro = lambda x,y,z: x*y*z\n",
    "print(pro(z=4,x=9,y=2))"
   ]
  },
  {
   "cell_type": "code",
   "execution_count": 7,
   "id": "dd83e3ce",
   "metadata": {},
   "outputs": [
    {
     "name": "stdout",
     "output_type": "stream",
     "text": [
      "72\n"
     ]
    }
   ],
   "source": [
    "# Define a lambda function that multiplies three numbers\n",
    "pro = lambda x, y, z: x * y * z\n",
    "\n",
    "# Call the lambda function with keyword arguments and print the result\n",
    "print(pro(z=4, x=9, y=2))  # Output will be 72\n"
   ]
  },
  {
   "cell_type": "code",
   "execution_count": 8,
   "id": "a6932f39",
   "metadata": {},
   "outputs": [],
   "source": [
    "# a = lambda x,y=15, z= 24 : x+y+z\n",
    "# a\n",
    "a = lambda x, y=5, z=4: x + y + z\n",
    "# result = a(10)\n",
    "result = a(10, 5, 3)"
   ]
  },
  {
   "cell_type": "code",
   "execution_count": 9,
   "id": "fe6c9082",
   "metadata": {},
   "outputs": [
    {
     "name": "stdout",
     "output_type": "stream",
     "text": [
      "18\n"
     ]
    }
   ],
   "source": [
    "print(result)"
   ]
  },
  {
   "cell_type": "code",
   "execution_count": 10,
   "id": "0e25b252",
   "metadata": {},
   "outputs": [
    {
     "name": "stdout",
     "output_type": "stream",
     "text": [
      "14\n"
     ]
    }
   ],
   "source": [
    "Addition = lambda *args : sum (args)\n",
    "print(Addition(2,3,4,5))"
   ]
  },
  {
   "cell_type": "code",
   "execution_count": 11,
   "id": "17bb015a",
   "metadata": {},
   "outputs": [
    {
     "name": "stdout",
     "output_type": "stream",
     "text": [
      "14\n"
     ]
    }
   ],
   "source": [
    "# Define a lambda function that sums any number of arguments\n",
    "Addition = lambda *args: sum(args)\n",
    "\n",
    "# Call the lambda function with multiple arguments and print the result\n",
    "print(Addition(2, 3, 4, 5))  # Output will be 14\n"
   ]
  },
  {
   "cell_type": "code",
   "execution_count": 12,
   "id": "4e0400ac",
   "metadata": {},
   "outputs": [
    {
     "data": {
      "text/plain": [
       "420"
      ]
     },
     "execution_count": 12,
     "metadata": {},
     "output_type": "execute_result"
    }
   ],
   "source": [
    "fun = lambda x, fun : x+fun(x)\n",
    "fun (20, lambda x: x*x)"
   ]
  },
  {
   "cell_type": "code",
   "execution_count": 13,
   "id": "f8b5b6cb",
   "metadata": {},
   "outputs": [
    {
     "name": "stdout",
     "output_type": "stream",
     "text": [
      "420\n"
     ]
    }
   ],
   "source": [
    "# Define a lambda function that takes two arguments: x and another function fun\n",
    "fun = lambda x, fun: x + fun(x)\n",
    "\n",
    "# Call the lambda function with 20 and another lambda function as arguments, then print the result\n",
    "print(fun(20, lambda x: x * x))  # Output will be 420\n"
   ]
  },
  {
   "cell_type": "code",
   "execution_count": 14,
   "id": "3d37c098",
   "metadata": {},
   "outputs": [
    {
     "name": "stdout",
     "output_type": "stream",
     "text": [
      "even\n"
     ]
    }
   ],
   "source": [
    "# Define a lambda function to check if a number is odd or even\n",
    "# This lambda function returns 'odd' if the number is odd, otherwise 'even'\n",
    "result = (lambda x: (x % 2 and 'odd' or 'even'))(10)\n",
    "\n",
    "# Print the result\n",
    "print(result)  # Output will be 'even'\n",
    "# The expression (x % 2 and 'odd' or 'even') uses a conditional expression to determine the result\n",
    "# If x % 2 evaluates to True (non-zero), it returns 'odd', otherwise it returns 'even'"
   ]
  },
  {
   "cell_type": "code",
   "execution_count": null,
   "id": "98817ee4",
   "metadata": {},
   "outputs": [],
   "source": []
  },
  {
   "cell_type": "code",
   "execution_count": 15,
   "id": "7bfdc2b9",
   "metadata": {},
   "outputs": [
    {
     "data": {
      "text/plain": [
       "'odd'"
      ]
     },
     "execution_count": 15,
     "metadata": {},
     "output_type": "execute_result"
    }
   ],
   "source": [
    "(lambda x: (x%2 and 'odd' or 'even'))(13)"
   ]
  },
  {
   "cell_type": "code",
   "execution_count": null,
   "id": "cb5f3067",
   "metadata": {},
   "outputs": [],
   "source": []
  },
  {
   "cell_type": "code",
   "execution_count": 16,
   "id": "93daecdc",
   "metadata": {},
   "outputs": [
    {
     "name": "stdout",
     "output_type": "stream",
     "text": [
      "True\n"
     ]
    }
   ],
   "source": [
    "string= lambda string : string in 'wel to ohython'\n",
    "print(string ('to'))"
   ]
  },
  {
   "cell_type": "code",
   "execution_count": 18,
   "id": "f042deff",
   "metadata": {},
   "outputs": [
    {
     "name": "stdout",
     "output_type": "stream",
     "text": [
      "{1, 2, 3, 5, 7, 11, 13, 17, 19, 23, 29, 31, 37, 41, 43, 47, 53, 59, 61, 67, 71, 73, 79, 83, 89, 97}\n"
     ]
    }
   ],
   "source": [
    "# filter\n",
    "# syntax: filtter(fun,seq)\n",
    "def prime (n):\n",
    "    # Iterate from 2 to n // 2\n",
    "    for i in range (2,n//2+1):  \n",
    "#         If num is divisible by any number between\n",
    "#         2 and n / 2, it is not prime\n",
    "        if n%i==0:\n",
    "            return False  \n",
    "    return True\n",
    "list1= [1, 2, 3, 4, 5, 6, 7, 8, 9, 10, 11, 12, 13, 14, 15, 16, 17, 18, 19, 20, 21, 22, 23, 24, 25, 26, 27, 28, 29, 30, 31, 32, 33, 34, 35, 36, 37, 38, 39, 40, 41, 42, 43, 44, 45, 46, 47, 48, 49, ]\n",
    "list2= [50, 51, 52, 53, 54, 55, 56, 57, 58, 59, 60, 61, 62, 63, 64, 65, 66, 67, 68, 69, 70, 71, 72, 73, 74, 75, 76, 77, 78, 79, 80, 81, 82, 83, 84, 85, 86, 87, 88, 89, 90, 91, 92, 93, 94, 95, 96, 97, 98, 99, 100]\n",
    "primes_list1 = filter(prime, list1)\n",
    "primes_list2 = filter(prime, list2)\n",
    "# values = set(filter(prime, primes_list1))\n",
    "# values2 = set(filter(prime, primes_list2))\n",
    "all_primes = list(primes_list1) + list(primes_list2)\n",
    "values = set(filter(prime, all_primes))\n",
    "print(values)\n",
    "\n",
    "# def prime(n):\n",
    "#     if n <= 1:\n",
    "#         return False\n",
    "#     for i in range(2, int(n**0.5) + 1):\n",
    "#         if n % i == 0:\n",
    "#             return False\n",
    "#     return True\n",
    "\n",
    "# list1 = [1, 2, 3, 5, 6, 7, 5, 6, 7, 8, 33, 5, 6, 78, 8]\n",
    "# values = filter(prime, list1)\n",
    "# list(values)"
   ]
  },
  {
   "cell_type": "code",
   "execution_count": null,
   "id": "8666278c",
   "metadata": {},
   "outputs": [],
   "source": [
    "num = 11\n"
   ]
  },
  {
   "cell_type": "code",
   "execution_count": null,
   "id": "b61131d9",
   "metadata": {},
   "outputs": [],
   "source": [
    "num = [10,4,56,6,7,4,66,7,8]\n",
    "greater= list(filter(lambda num : num >8, num))\n",
    "print(greater)"
   ]
  },
  {
   "cell_type": "code",
   "execution_count": null,
   "id": "7d950636",
   "metadata": {},
   "outputs": [],
   "source": [
    "list1= [1,2,3,5,6,7,5,6,7,8,33,5,6,78,8,]\n",
    "divide= list(filter (lambda x : (x%2==0), list1))\n",
    "print(divide)\n"
   ]
  },
  {
   "cell_type": "code",
   "execution_count": null,
   "id": "122f0024",
   "metadata": {},
   "outputs": [],
   "source": [
    "list1= [1,2,3,5,6,7,5,6,7,8,33,5,6,78,8,]\n",
    "# map= used the same for all values in the list\n",
    "double = list (map(lambda x: x*2, list1))\n",
    "double"
   ]
  },
  {
   "cell_type": "code",
   "execution_count": null,
   "id": "413b9765",
   "metadata": {},
   "outputs": [],
   "source": [
    "cube = list (map(lambda x: pow(x,3), list1))\n",
    "cube"
   ]
  },
  {
   "cell_type": "code",
   "execution_count": null,
   "id": "3acd15be",
   "metadata": {},
   "outputs": [],
   "source": [
    "# REDUCE (add)"
   ]
  },
  {
   "cell_type": "code",
   "execution_count": null,
   "id": "45369d49",
   "metadata": {},
   "outputs": [],
   "source": [
    "# syntax functools.reduce(fun, seq)\n",
    "import functools\n",
    "def fun(a,b):\n",
    "    return a+b\n",
    "li = [2,34,3,4,3,4,3,4,5]\n",
    "res =functools.reduce(fun,li)\n",
    "res"
   ]
  },
  {
   "cell_type": "code",
   "execution_count": null,
   "id": "687faae1",
   "metadata": {},
   "outputs": [],
   "source": [
    "re= lambda x,y : x+y \n",
    "print(re(4,5))"
   ]
  },
  {
   "cell_type": "code",
   "execution_count": null,
   "id": "ed36bf0c",
   "metadata": {},
   "outputs": [],
   "source": [
    "li = [2,34,3,4,3,4,3,4,5]\n",
    "from functools import reduce\n",
    "functools.reduce(lambda x, y : x+ y, li)"
   ]
  },
  {
   "cell_type": "code",
   "execution_count": null,
   "id": "60422261",
   "metadata": {},
   "outputs": [],
   "source": [
    "from functools import reduce\n",
    "sume = reduce ((lambda x,y:x+y), list1)\n",
    "sume"
   ]
  },
  {
   "cell_type": "code",
   "execution_count": null,
   "id": "f598b2ae",
   "metadata": {},
   "outputs": [],
   "source": [
    "String = lambda s :len(s)\n",
    "String('Naveen')\n"
   ]
  },
  {
   "cell_type": "code",
   "execution_count": null,
   "id": "e8825e0e",
   "metadata": {},
   "outputs": [],
   "source": [
    "list1 = [1,2,3]\n",
    "# sqaures=[lambda x: x**2 ]\n",
    "sqaures = list(map(lambda x: x**2, list1))\n",
    "sqaures"
   ]
  },
  {
   "cell_type": "code",
   "execution_count": null,
   "id": "a1938e3f",
   "metadata": {},
   "outputs": [],
   "source": [
    "num =[1,2,3,4]\n",
    "# lambda x= x**2\n",
    "square = list (map(lambda x:x**2, num))\n",
    "square"
   ]
  },
  {
   "cell_type": "code",
   "execution_count": null,
   "id": "68949866",
   "metadata": {},
   "outputs": [],
   "source": [
    "# lambda x= x%2\n",
    "list (filter(lambda x: x%2==0, num))"
   ]
  },
  {
   "cell_type": "code",
   "execution_count": null,
   "id": "386aff4e",
   "metadata": {},
   "outputs": [],
   "source": [
    "# sort\n",
    "fruits = ['apple', 'abanna', \"vherry\", 'date']\n",
    "sorted(fruits)"
   ]
  },
  {
   "cell_type": "code",
   "execution_count": null,
   "id": "c195fc46",
   "metadata": {},
   "outputs": [],
   "source": [
    "sorted (fruits, key = lambda x: len(x))"
   ]
  },
  {
   "cell_type": "code",
   "execution_count": null,
   "id": "49dbe633",
   "metadata": {},
   "outputs": [],
   "source": [
    "# Sorting a list of dic.\n",
    "people=[ \n",
    "    {'apple': \"alice\", 'age' :30, 'sub': 'eng'},\n",
    "    {'apple': \"alice2\", 'age' :51, 'sub': 'eng2'},\n",
    "    {'apple': \"alice4\", 'age' :23, 'sub': 'eng3'},\n",
    "    {'apple': \"alice3\", 'age' :23, 'sub': 'eng4'},\n",
    "    {'apple': \"alice6\", 'age' :24, 'sub': 'eng5'}\n",
    "]\n",
    "# sorted(people, key =lambda x: x['age'])\n",
    "sorted(people, key =lambda x: (x['age'], x['apple']))\n"
   ]
  },
  {
   "cell_type": "code",
   "execution_count": null,
   "id": "af52a1aa",
   "metadata": {},
   "outputs": [],
   "source": [
    "data = {'a': 10, 'b': 12, 'c': 5}\n",
    "max(data, key = lambda  x :data[x])"
   ]
  },
  {
   "cell_type": "code",
   "execution_count": null,
   "id": "85eae690",
   "metadata": {},
   "outputs": [],
   "source": [
    "# grouping list based on 1st letter \n",
    "from itertools import groupby\n",
    "fruits = ['apple', 'abanna', \"vherry\", 'date']\n",
    "\n",
    "# sorted_fruits = sorted(fruits, key=lambda x: x[0])\n",
    "# sorted_fruits\n",
    "\n",
    "groups = groupby(sorted(fruits, key=lambda x: x[0]), key=lambda x: x[0])\n",
    "for key, group in groups:\n",
    "    print(key, list(group))\n"
   ]
  },
  {
   "cell_type": "code",
   "execution_count": null,
   "id": "9df5dfab",
   "metadata": {},
   "outputs": [],
   "source": [
    "# map()\n",
    "def fact(n):\n",
    "    f =1 \n",
    "    for i in range (1,n+1):\n",
    "        f=f*i\n",
    "    return f\n",
    "li=[2,3,4,3,5,67,9]\n",
    "res =list(map(fact,li))\n",
    "print(res)\n",
    "\n",
    "# def factorial(n):  \n",
    "\n",
    "#     if n < 0:\n",
    "#         return None\n",
    "#     f = 1\n",
    "#     for i in range(1, n + 1):\n",
    "#         f *= i \n",
    "#     return f\n",
    "\n",
    "# li = [2, 3, 4, 3, 5, 67, 9]\n",
    "# res = list(map(factorial, li)) \n",
    "# print(res)"
   ]
  },
  {
   "cell_type": "code",
   "execution_count": null,
   "id": "3adb77e5",
   "metadata": {},
   "outputs": [],
   "source": [
    "def decor(func):\n",
    "    def inner():\n",
    "        func()\n",
    "        print('welcome3')\n",
    "    return inner\n",
    "def printer():\n",
    "    print('welcome1')\n",
    "    print('welcome2')\n",
    "\n",
    "decorated_printer = decor(printer)\n",
    "decorated_printer()  \n",
    "\n"
   ]
  },
  {
   "cell_type": "code",
   "execution_count": null,
   "id": "a1b2550e",
   "metadata": {},
   "outputs": [],
   "source": [
    "# #### def decor(addition):\n",
    "# def decor(addition):\n",
    "#     def inner():\n",
    "#         result =addition()\n",
    "#         num3 =float(input(\"enter number3\"))\n",
    "#         result = result+num3\n",
    "#         return result\n",
    "#     return inner\n",
    "# # @decor\n",
    "# def addition():\n",
    "#     num1 =float(input(\"enter number1\"))\n",
    "#     num2 =float(input(\"enter number2\"))\n",
    "#     result = num1 + num2\n",
    "#     return result\n",
    "\n",
    "# x=decor(addition)\n",
    "# x()"
   ]
  },
  {
   "cell_type": "code",
   "execution_count": null,
   "id": "0d8c0727",
   "metadata": {},
   "outputs": [],
   "source": [
    "# def decor(addition):\n",
    "#     def inner():\n",
    "#         result =addition()\n",
    "#         num3 =float(input(\"enter number3\"))\n",
    "#         result = result+num3\n",
    "#         return result\n",
    "#     return inner\n",
    "# @decor\n",
    "# def addition():\n",
    "#     num1 =float(input(\"enter number1\"))\n",
    "#     num2 =float(input(\"enter number2\"))\n",
    "#     result = num1 + num2\n",
    "#     return result\n",
    "\n",
    "# x=decor(addition)\n",
    "# x()"
   ]
  },
  {
   "cell_type": "code",
   "execution_count": null,
   "id": "f8ac7cab",
   "metadata": {},
   "outputs": [],
   "source": [
    "# def decor1(addition):\n",
    "#     def inner():\n",
    "#         result =addition()\n",
    "#         num3 =float(input(\"enter number3\"))\n",
    "#         result = result+num3\n",
    "#         return result\n",
    "#     return inner\n",
    "# def decor2(addition):\n",
    "#     def inner():\n",
    "#         result =addition()\n",
    "#         num3 =float(input(\"enter number4\"))\n",
    "#         result = result+num3\n",
    "#         return result\n",
    "#     return inner\n",
    "# @decor2\n",
    "# @decor1\n",
    "# def addition():\n",
    "#     num1 =float(input(\"enter number1\"))\n",
    "#     num2 =float(input(\"enter number2\"))\n",
    "#     result = num1 + num2\n",
    "#     return result\n",
    "\n",
    "# x=decor2(decor1(addition))\n",
    "# x()"
   ]
  },
  {
   "cell_type": "code",
   "execution_count": null,
   "id": "857897a3",
   "metadata": {},
   "outputs": [],
   "source": [
    "def decor (func):\n",
    "    def inner(*args):\n",
    "        for num in args[1:]:\n",
    "            if num==0:\n",
    "                return \"not divide by zero\"\n",
    "        return func (*args)\n",
    "    return inner\n",
    "\n",
    "@decor\n",
    "def div1 (a,b):\n",
    "    return a//b\n",
    "@decor \n",
    "def div2 (a,b,c):\n",
    "    return a/b/c\n",
    "\n",
    "print(div1(10,5))\n",
    "print(div1(0,5))\n",
    "print(div2(100,5,0))\n",
    "print(div2(102,0,5))\n",
    "print(div1(504,4))\n",
    "\n",
    "\n"
   ]
  },
  {
   "cell_type": "code",
   "execution_count": null,
   "id": "620f9f7b",
   "metadata": {},
   "outputs": [],
   "source": [
    "def great (fx):\n",
    "    def mfx():\n",
    "        print(\"good\")\n",
    "        fx()\n",
    "        print('after')\n",
    "    return mfx\n",
    "@great\n",
    "def hello():\n",
    "    print(\"hello\")\n",
    "    \n",
    "hello()"
   ]
  },
  {
   "cell_type": "code",
   "execution_count": null,
   "id": "d26021b3",
   "metadata": {},
   "outputs": [],
   "source": [
    "#  *args = taken argument as tuple\n",
    "# **kwargs = as dict.\n",
    "def great (fx):\n",
    "    def mfx(*args, **kwargs):\n",
    "        print(\"good\")\n",
    "        result = fx(*args, **kwargs)\n",
    "        print('after')\n",
    "        return result\n",
    "    return mfx\n",
    "@great\n",
    "def hello():\n",
    "    print(\"hello\")\n",
    "@great\n",
    "def add (a,b):\n",
    "    print(a+b)\n",
    "    \n",
    "hello()\n",
    "add(1,2)"
   ]
  },
  {
   "cell_type": "code",
   "execution_count": null,
   "id": "b8596901",
   "metadata": {},
   "outputs": [],
   "source": [
    "# import time\n",
    "# def timer (func):\n",
    "#     def wrapper (*args, **kwargs):\n",
    "#         start_time = time.time()\n",
    "#         result = func(*args, **kwargs)\n",
    "#         end_time=time.time()\n",
    "#         print(f\"Function {func.__name__!r} took: {end_time - start_time:.4f} sec\")\n",
    "#         return result\n",
    "#     return wrapper\n",
    "# def example_function(n):\n",
    "#     return f\"The sum is {sum (range(n))}\"\n",
    "# example_function= timer (example_function)\n",
    "# print(example_function (10))"
   ]
  },
  {
   "cell_type": "code",
   "execution_count": null,
   "id": "9d749db2",
   "metadata": {},
   "outputs": [],
   "source": [
    "class math:\n",
    "    @staticmethod\n",
    "    def add (x,y):\n",
    "        return (x+y)\n",
    "    @staticmethod\n",
    "    def multy (x,y):\n",
    "        return x*y\n",
    "m = math()\n",
    "print(m.add(1,2))\n",
    "print(math.add(5,7))\n",
    "print(math.multy(4,4))"
   ]
  },
  {
   "cell_type": "code",
   "execution_count": null,
   "id": "d649b676",
   "metadata": {},
   "outputs": [],
   "source": [
    "import functools\n",
    "@functools.cache\n",
    "def fibonacci(n):\n",
    "    if n<2:\n",
    "        return n\n",
    "    return fibonacci (n-1) +fibonacci (n-2)\n",
    "print(fibonacci(4))\n",
    "# import functools\n",
    "\n",
    "# @functools.lru_cache(maxsize=None)\n",
    "# def fibonacci(n):\n",
    "#     if n < 2:\n",
    "#         return n\n",
    "#     return fibonacci(n - 1) + fibonacci(n - 2)\n",
    "\n",
    "# print(fibonacci(5))\n"
   ]
  },
  {
   "cell_type": "code",
   "execution_count": null,
   "id": "82246714",
   "metadata": {},
   "outputs": [],
   "source": [
    "#  **Sort a List of Tuples by the Second Element:**\n",
    "tuples = [(1, 'one'), (2, 'two'), (3, 'three')]\n",
    "sorted_tuples = sorted(tuples, key=lambda x: x[1])\n",
    "print(sorted_tuples)\n",
    "# #  **Sort a List of Tuples by the First Element:**\n",
    "# tuples = [(1, 'one'), (2, 'two'), (3, 'three')]\n",
    "# sorted_tuples = sorted(tuples, key=lambda x: x[0])\n",
    "# print(sorted_tuples)\n",
    "#    **Question:** How can you sort a list of tuples based on the second element in each tuple?\n",
    "\n",
    "# **Filter a List of Even Numbers:**\n",
    "numbers = [1, 2, 3, 4, 5, 6]\n",
    "evens = list(filter(lambda x: x % 2 == 0, numbers))\n",
    "print(evens)\n",
    "# **Question:** How can you filter out the even numbers from a list of integers?\n",
    "\n",
    "# **Square Each Number in a List:**\n",
    "numbers = [1, 2, 3, 4]\n",
    "squares = list(map(lambda x: x ** 2, numbers))\n",
    "print(squares)\n",
    "# **Question:** How can you apply a function to square each number in a list?\n",
    "\n",
    "# **Find the Maximum of Two Numbers:**\n",
    "max_number = (lambda x, y: x if x > y else y)(10, 20)\n",
    "print(max_number)\n",
    "# Question:** How can you find the maximum of two numbers using a lambda function?\n",
    "\n",
    "# Combine First Name and Last Name into Full Name:**\n",
    "first_names = ['John', 'Jane']\n",
    "last_names = ['Doe', 'Smith']\n",
    "full_names = list(map(lambda f, l: f + ' ' + l, first_names, last_names))\n",
    "print(full_names)\n",
    "# **Question:** How can you combine first and last names from two lists into full names?\n",
    "\n",
    "# **Check if a String Starts with a Specific Letter:**\n",
    "starts_with_J = lambda s: s.startswith('J')\n",
    "result = starts_with_J('John')\n",
    "print(result)\n",
    "# **Question:** How can you check if a string starts with the letter 'J'?\n",
    "\n",
    "# **Sum Corresponding Elements of Two Lists:**\n",
    "list1 = [1, 2, 3]\n",
    "list2 = [4, 5, 6]\n",
    "summed_list = list(map(lambda x, y: x + y, list1, list2))\n",
    "print(summed_list)\n",
    "# **Question:** How can you sum corresponding elements of two lists?\n",
    "\n",
    "# **Sort a List of Dictionaries by a Specific Key:**\n",
    "dicts = [{'name': 'John', 'age': 25}, {'name': 'Jane', 'age': 22}]\n",
    "sorted_dicts = sorted(dicts, key=lambda d: d['age'])\n",
    "print(sorted_dicts)\n",
    "# **Question:** How can you sort a list of dictionaries by a specific key, like 'age'?\n",
    "\n",
    "# **Create a Function that Returns a Multiplier Function:**\n",
    "def multiplier(n):\n",
    "    return lambda x: x * n\n",
    "doubler = multiplier(2)\n",
    "result = doubler(5)  # 10\n",
    "print(result)\n",
    "# **Question:** How can you create a function that returns a lambda function to multiply a number by a given value?\n",
    "\n",
    "# **Filter Words Longer than a Given Length:**\n",
    "words = ['apple', 'banana', 'cherry', 'date']\n",
    "long_words = list(filter(lambda x: len(x) > 5, words))\n",
    "print(long_words)\n",
    "# **Question:** How can you filter out words longer than a specified length from a list of words?\n"
   ]
  },
  {
   "cell_type": "code",
   "execution_count": null,
   "id": "652e73c0",
   "metadata": {},
   "outputs": [],
   "source": []
  }
 ],
 "metadata": {
  "kernelspec": {
   "display_name": "Python 3 (ipykernel)",
   "language": "python",
   "name": "python3"
  },
  "language_info": {
   "codemirror_mode": {
    "name": "ipython",
    "version": 3
   },
   "file_extension": ".py",
   "mimetype": "text/x-python",
   "name": "python",
   "nbconvert_exporter": "python",
   "pygments_lexer": "ipython3",
   "version": "3.9.12"
  }
 },
 "nbformat": 4,
 "nbformat_minor": 5
}
