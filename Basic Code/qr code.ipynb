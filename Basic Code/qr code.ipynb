{
 "cells": [
  {
   "cell_type": "code",
   "execution_count": 2,
   "id": "f2c154d9",
   "metadata": {},
   "outputs": [],
   "source": [
    "import qrcode as qr\n",
    "img= qr.make(\"https://www.flickr.com/photos/newnaveendhawan/53647377060/in/dateposted-public/\")\n",
    "img.save(\"flickr_newnaveendhawan.png\")"
   ]
  },
  {
   "cell_type": "code",
   "execution_count": 3,
   "id": "169bff5f",
   "metadata": {},
   "outputs": [],
   "source": [
    "from PIL import Image\n",
    "import IPython.display as display\n",
    "\n",
    "image_path = 'flickr_newnaveendhawan.png'  # Replace with your image file path\n",
    "image = Image.open(image_path)\n",
    "\n",
    "# display.display(image)\n"
   ]
  },
  {
   "cell_type": "code",
   "execution_count": 4,
   "id": "36ceb63a",
   "metadata": {},
   "outputs": [
    {
     "data": {
      "text/plain": [
       "<qrcode.main.QRCode at 0x19bb0c4f220>"
      ]
     },
     "execution_count": 4,
     "metadata": {},
     "output_type": "execute_result"
    }
   ],
   "source": [
    "qr = qr.QRCode(version =1,\n",
    "                  error_correction =qr.constants.ERROR_CORRECT_H,\n",
    "                   box_size =10, border=4)\n",
    "qr.add_data(\"https://www.flickr.com/photos/newnaveendhawan/53646917211/in/dateposted-public/\")\n",
    "qr.make(fit=True)\n",
    "img = qr.make_image(fill_color =\"red\", back_color =\"blue\")\n",
    "img.save(\"new_filckr.png\")\n",
    "qr"
   ]
  },
  {
   "cell_type": "code",
   "execution_count": null,
   "id": "3571a43a",
   "metadata": {},
   "outputs": [],
   "source": []
  }
 ],
 "metadata": {
  "kernelspec": {
   "display_name": "Python 3 (ipykernel)",
   "language": "python",
   "name": "python3"
  },
  "language_info": {
   "codemirror_mode": {
    "name": "ipython",
    "version": 3
   },
   "file_extension": ".py",
   "mimetype": "text/x-python",
   "name": "python",
   "nbconvert_exporter": "python",
   "pygments_lexer": "ipython3",
   "version": "3.9.12"
  }
 },
 "nbformat": 4,
 "nbformat_minor": 5
}
